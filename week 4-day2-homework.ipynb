{
 "cells": [
  {
   "cell_type": "markdown",
   "metadata": {},
   "source": [
    "# Cl"
   ]
  },
  {
   "cell_type": "markdown",
   "metadata": {},
   "source": [
    "## Tasks Today:\n",
    " \n",
    "1) <b>In-Place Algorithms</b> <br>\n",
    " &nbsp;&nbsp;&nbsp;&nbsp; a) Syntax <br>\n",
    " &nbsp;&nbsp;&nbsp;&nbsp; a) Out of Place Algorithm <br>\n",
    " &nbsp;&nbsp;&nbsp;&nbsp; b) In-Class Exercise #1 <br>\n",
    "2) <b>Two Pointers</b> <br>\n",
    "3) <b>Linked Lists</b> <br>\n",
    "4) <b>Merge Sort</b> <br>\n",
    " &nbsp;&nbsp;&nbsp;&nbsp; a) Video on Algorithms <br>\n",
    " &nbsp;&nbsp;&nbsp;&nbsp; b) How it Works <br>\n",
    "5) <b>Exercises</b> <br>\n",
    " &nbsp;&nbsp;&nbsp;&nbsp; a) Exercise #1 - Reverse a List in Place Using an In-Place Algorithm <br>\n",
    " &nbsp;&nbsp;&nbsp;&nbsp; b) Exercise #2 - Find Distinct Words <br>\n",
    " &nbsp;&nbsp;&nbsp;&nbsp; c) Exercise #3 - Write a program to implement a Linear Search Algorithm. <br>"
   ]
  },
  {
   "cell_type": "markdown",
   "metadata": {},
   "source": [
    "## In-Place Algorithms"
   ]
  },
  {
   "cell_type": "markdown",
   "metadata": {},
   "source": [
    "#### Syntax"
   ]
  },
  {
   "cell_type": "code",
   "execution_count": 6,
   "metadata": {},
   "outputs": [],
   "source": [
    "def double_nums(alist):\n",
    "    print(hex(id(alist)))\n",
    "    for i in range(len(alist)):\n",
    "        alist[i] *= 2"
   ]
  },
  {
   "cell_type": "code",
   "execution_count": 7,
   "metadata": {},
   "outputs": [
    {
     "name": "stdout",
     "output_type": "stream",
     "text": [
      "0x15f50e24640\n",
      "0x15f50e24640\n"
     ]
    }
   ],
   "source": [
    "nums = [1, 2, 3, 4, 5]\n",
    "print(hex(id(nums)))\n",
    "double_nums(nums)"
   ]
  },
  {
   "cell_type": "code",
   "execution_count": 9,
   "metadata": {},
   "outputs": [],
   "source": [
    "def custom_append(alist, num):\n",
    "    alist.append(num)"
   ]
  },
  {
   "cell_type": "code",
   "execution_count": 10,
   "metadata": {},
   "outputs": [],
   "source": [
    "nums = [1, 2, 3]\n",
    "custom_append(nums, 4)"
   ]
  },
  {
   "cell_type": "code",
   "execution_count": 11,
   "metadata": {},
   "outputs": [
    {
     "data": {
      "text/plain": [
       "[1, 2, 3, 4]"
      ]
     },
     "execution_count": 11,
     "metadata": {},
     "output_type": "execute_result"
    }
   ],
   "source": [
    "nums"
   ]
  },
  {
   "cell_type": "markdown",
   "metadata": {},
   "source": [
    "#### Out of Place Algorithm"
   ]
  },
  {
   "cell_type": "code",
   "execution_count": null,
   "metadata": {},
   "outputs": [],
   "source": [
    "def custom_append(alist, num):\n",
    "    copy = alist[:]\n",
    "    copy.append(num)\n",
    "    return copy\n",
    "\n",
    "# this also works, and the \"copy\" version of alist is local only to this function\n",
    "def custom_append(alist, num):\n",
    "    alist = alist[:]\n",
    "    alist.append(num)\n",
    "    return alist"
   ]
  },
  {
   "cell_type": "markdown",
   "metadata": {},
   "source": [
    "#### In-Class Exercise #1 <br>\n",
    "<p>Write a function that takes in four arguments (list, index1, index2, index3), and swaps those three positions in the list passed in.</p>"
   ]
  },
  {
   "cell_type": "code",
   "execution_count": 5,
   "metadata": {},
   "outputs": [
    {
     "name": "stdout",
     "output_type": "stream",
     "text": [
      "OUT OF PLACE\n",
      "[8, 4, 3, 6, 4, 2, 10]\n",
      "alist: [10, 4, 3, 8, 4, 2, 6]\n",
      "\n",
      "IN PLACE\n",
      "[8, 4, 3, 6, 4, 2, 10]\n",
      "alist: [8, 4, 3, 6, 4, 2, 10]\n"
     ]
    }
   ],
   "source": [
    "# index 0  1  2  3  4  5  6\n",
    "l_1 = [10, 4, 3, 8, 4, 2, 6]\n",
    "\n",
    "# i1 -> i2\n",
    "# i2 -> i3\n",
    "# i3 -> i1\n",
    "\n",
    "# swap out of place\n",
    "def swap_op(alist, i1, i2, i3):\n",
    "    copy = alist[:]\n",
    "    copy[i1], copy[i2], copy[i3] = copy[i3], copy[i1], copy[i2]\n",
    "    return copy\n",
    "\n",
    "# swap in place\n",
    "def swap_ip(alist, i1, i2, i3):\n",
    "    alist[i1], alist[i2], alist[i3] = alist[i3], alist[i1], alist[i2]\n",
    "    return alist\n",
    "\n",
    "print('OUT OF PLACE')\n",
    "print(swap_op(l_1, 0, -1, 3))\n",
    "print(f'alist: {l_1}')\n",
    "\n",
    "print('\\nIN PLACE')\n",
    "print(swap_ip(l_1, 0, -1, 3))\n",
    "print(f'alist: {l_1}')\n"
   ]
  },
  {
   "cell_type": "markdown",
   "metadata": {},
   "source": [
    "## Two Pointers"
   ]
  },
  {
   "cell_type": "markdown",
   "metadata": {},
   "source": [
    "#### Syntax"
   ]
  },
  {
   "cell_type": "code",
   "execution_count": 1,
   "metadata": {},
   "outputs": [],
   "source": [
    "# Write an algo to reverse a given list\n",
    "#  i              j\n",
    "# [1, 2, 3, 4, 5, 6]\n",
    "#     i        j\n",
    "# [6, 2, 3, 4, 5, 1]\n",
    "#        i  j\n",
    "# [6, 5, 3, 4, 2, 1]\n",
    "#        j  i\n",
    "# [6, 5, 4, 3, 2, 1]\n",
    "\n",
    "# 1) define pointer 1 as 0\n",
    "# 2) define pointer 2 as length of list minus 1\n",
    "# 3) swap items at the positions of pointer 1 and pointer 2\n",
    "# 4) increment pointer 1\n",
    "# 5) decrement pointer 2\n",
    "# repeat steps 3,4,5 until pointer 1 greater than pointer 2\n",
    "\n",
    "def reverse(alist):\n",
    "    # step 1\n",
    "    i = 0 # pointer 1\n",
    "    \n",
    "    # step 2\n",
    "    j = len(alist) - 1 # pointer 2\n",
    "\n",
    "    # step 6\n",
    "    while i < j:\n",
    "        # step 3\n",
    "        alist[i], alist[j] = alist[j], alist[i]\n",
    "\n",
    "        # step 4\n",
    "        i += 1\n",
    "\n",
    "        # step 5\n",
    "        j -= 1"
   ]
  },
  {
   "cell_type": "code",
   "execution_count": 2,
   "metadata": {},
   "outputs": [
    {
     "name": "stdout",
     "output_type": "stream",
     "text": [
      "[7, 6, 5, 4, 3, 2, 1]\n"
     ]
    }
   ],
   "source": [
    "nums = [1, 2, 3, 4, 5, 6, 7]\n",
    "reverse(nums)\n",
    "\n",
    "print(nums)"
   ]
  },
  {
   "cell_type": "markdown",
   "metadata": {},
   "source": [
    "### Two Sum\n",
    "\n",
    "Given an array of integers nums and an integer target, return indices of the two numbers such that they add up to target.\n",
    "\n",
    "You may assume that each input would have exactly one solution, and you may not use the same element twice.\n",
    "\n",
    "You can return the answer in any order.\n",
    "\n",
    "Example 1:\n",
    "Input: nums = [2,7,11,15], target = 9\n",
    "Output: [0,1]\n",
    "Explanation: Because nums[0] + nums[1] == 9, we return [0, 1].\n",
    "\n",
    "Example 2:\n",
    "Input: nums = [3,2,4], target = 6\n",
    "Output: [1,2]\n",
    "\n",
    "Example 3:\n",
    "Input: nums = [3,3], target = 6\n",
    "Output: [0,1]"
   ]
  },
  {
   "cell_type": "code",
   "execution_count": 3,
   "metadata": {},
   "outputs": [
    {
     "name": "stdout",
     "output_type": "stream",
     "text": [
      "[0, 1]\n",
      "[]\n",
      "[0, 1]\n",
      "[0, 3]\n"
     ]
    }
   ],
   "source": [
    "def find_target(alist, target):\n",
    "    found = []\n",
    "    i = 0\n",
    "    j = i + 1\n",
    "    while j > i:\n",
    "        while j < len(alist):\n",
    "            if alist[i] + alist[j] == target:\n",
    "                found.append(i)\n",
    "                found.append(j)\n",
    "                return found\n",
    "            else:\n",
    "                j += 1\n",
    "        i += 1\n",
    "    return found\n",
    "\n",
    "# def find_target(alist, target):\n",
    "#     found = []\n",
    "#     i = 0\n",
    "#     j = i + 1\n",
    "#     while j != i:\n",
    "#         while j < len(alist):\n",
    "#             if alist[i] + alist[j] == target:\n",
    "#                 found.append(i)\n",
    "#                 found.append(j)\n",
    "#                 j += 1\n",
    "#             else:\n",
    "#                 j += 1\n",
    "#         i += 1\n",
    "#     return found\n",
    "\n",
    "print(find_target([2, 7, 11, 15], 9))\n",
    "print(find_target([3, 2, 4], 6))\n",
    "print(find_target([3, 3], 6))\n",
    "print(find_target([3, 2, 4, 3], 6))"
   ]
  },
  {
   "cell_type": "code",
   "execution_count": 5,
   "metadata": {},
   "outputs": [
    {
     "name": "stdout",
     "output_type": "stream",
     "text": [
      "0 1\n",
      "0 2\n",
      "1 2\n"
     ]
    }
   ],
   "source": [
    "# [3, 2, 4]\n",
    "#  i  j\n",
    "#  i     j\n",
    "#     i  j\n",
    "\n",
    "def two_sum(alist, target):\n",
    "    # 1) write for loop to iterate through each number (pointer 1)\n",
    "    # 2) write for loop to iterate through each number AFTER pointer 1 (pointer 2)\n",
    "    # 3) add values at index of pointer 1 and pointer 2 to check if they equal target\n",
    "    # 4) IF they equal target, return indicies [pointer 1, pointer 2]\n",
    "    # 5) IF they aren ot equal, continue\n",
    "\n",
    "    for i in range(len(alist)):\n",
    "        for j in range(i+1, len(alist)):\n",
    "            if alist[i] + alist[j] == target:\n",
    "                return[i,j]\n",
    "\n",
    "two_sum([3, 2, 4], 6)"
   ]
  },
  {
   "cell_type": "markdown",
   "metadata": {},
   "source": [
    "#### Video of Algorithms <br>\n",
    "<p>Watch the video about algorithms.</p>\n",
    "\n",
    "https://www.youtube.com/watch?v=Q9HjeFD62Uk\n",
    "\n",
    "https://www.youtube.com/watch?v=kPRA0W1kECg\n",
    "\n",
    "https://www.youtube.com/watch?v=ZZuD6iUe3Pc"
   ]
  },
  {
   "cell_type": "markdown",
   "metadata": {},
   "source": [
    "# Sorting Algorithms"
   ]
  },
  {
   "cell_type": "markdown",
   "metadata": {},
   "source": [
    "#### Bubble Sort\n",
    "\n",
    "Worst Case: O(n^2) Time - O(1) Space"
   ]
  },
  {
   "cell_type": "code",
   "execution_count": 4,
   "metadata": {},
   "outputs": [],
   "source": [
    "# set a pointer at the beginning of a list\n",
    "# set end_index to length of list minus 1\n",
    "# set flag of sorted to False\n",
    "\n",
    "def bubble_sort(alist):\n",
    "    alist = alist[:]\n",
    "\n",
    "    end_index = len(alist) - 1\n",
    "    # continue looping through pairs\n",
    "    # until is_sorted becomes true\n",
    "    is_sorted = False\n",
    "    while not is_sorted:\n",
    "        is_sorted = True\n",
    "\n",
    "        for i in range(end_index):\n",
    "            j = i + 1\n",
    "\n",
    "            if alist[i] > alist[j]:\n",
    "                alist[i], alist[j] = alist[j], alist[i]\n",
    "                is_sorted = False\n",
    "        \n",
    "        end_index -= 1\n",
    "\n",
    "    return alist"
   ]
  },
  {
   "cell_type": "code",
   "execution_count": 5,
   "metadata": {},
   "outputs": [
    {
     "data": {
      "text/plain": [
       "[1, 2, 3, 4, 5, 6, 7, 8, 9, 10]"
      ]
     },
     "execution_count": 5,
     "metadata": {},
     "output_type": "execute_result"
    }
   ],
   "source": [
    "bubble_sort([3, 4, 9, 8, 7, 2, 1, 10, 6, 5])"
   ]
  },
  {
   "cell_type": "markdown",
   "metadata": {},
   "source": [
    "##### Insertion Sort\n",
    "\n",
    "Worst Case: O(n^2) time - O(1)space"
   ]
  },
  {
   "cell_type": "code",
   "execution_count": null,
   "metadata": {},
   "outputs": [],
   "source": []
  },
  {
   "cell_type": "markdown",
   "metadata": {},
   "source": [
    "## Merge Sort"
   ]
  },
  {
   "cell_type": "markdown",
   "metadata": {},
   "source": [
    "#### How it Works"
   ]
  },
  {
   "cell_type": "code",
   "execution_count": null,
   "metadata": {},
   "outputs": [],
   "source": []
  },
  {
   "cell_type": "markdown",
   "metadata": {},
   "source": [
    "# Binary Search\n",
    "\n",
    "The Binary Search algorithm works by finding the number in the middle of a given array and comparing it to the target. Given that the array is sorted\n",
    "\n",
    "* The worst case run time for this algorithm is `O(log(n))`"
   ]
  },
  {
   "cell_type": "code",
   "execution_count": null,
   "metadata": {},
   "outputs": [],
   "source": []
  },
  {
   "cell_type": "markdown",
   "metadata": {},
   "source": [
    "# Exercises"
   ]
  },
  {
   "cell_type": "markdown",
   "metadata": {},
   "source": [
    "### Exercise #1 <br>\n",
    "<p>Reverse the list below in-place using an in-place algorithm.<br>For extra credit: Reverse the strings at the same time.</p>"
   ]
  },
  {
   "cell_type": "code",
   "execution_count": 17,
   "metadata": {},
   "outputs": [
    {
     "name": "stdout",
     "output_type": "stream",
     "text": [
      "['.', 'sentence', 'a', 'is', 'this']\n",
      "['.', 'ecnetnes', 'a', 'si', 'siht']\n"
     ]
    }
   ],
   "source": [
    "words = ['this' , 'is', 'a', 'sentence', '.']\n",
    "\n",
    "def reverse(alist):\n",
    "    i = 0\n",
    "    j = len(alist) - 1\n",
    "    while j > i:\n",
    "        alist[i], alist[j] = alist[j], alist[i]\n",
    "        i += 1\n",
    "        j -= 1\n",
    "    return alist\n",
    "\n",
    "def full_reverse(alist):\n",
    "    # this block is just the same as before, it reverses the order of the words\n",
    "    i1 = 0\n",
    "    j1 = len(alist) - 1\n",
    "    while j1 > i1:\n",
    "        alist[i1], alist[j1] = alist[j1], alist[i1]\n",
    "        i1 += 1\n",
    "        j1 -= 1\n",
    "\n",
    "    # this block will iterate through each word and reverse the characters until the word is fully reversed\n",
    "    for i in range(len(alist)):\n",
    "        n = list(alist[i])\n",
    "        i2 = 0\n",
    "        j2 = len(n) - 1\n",
    "        while j2 > i2:\n",
    "            n[i2], n[j2] = n[j2], n[i2]\n",
    "            i2 += 1\n",
    "            j2 -= 1\n",
    "        alist[i] = ''.join(n)\n",
    "    \n",
    "    return alist\n",
    "\n",
    "\n",
    "print(reverse(['this' , 'is', 'a', 'sentence', '.']))\n",
    "print(full_reverse(['this' , 'is', 'a', 'sentence', '.']))"
   ]
  },
  {
   "cell_type": "markdown",
   "metadata": {},
   "source": [
    "### Exercise #2 <br>\n",
    "<p>Create a function that counts how many distinct words are in the string below, then outputs a dictionary with the words as the key and the value as the amount of times that word appears in the string.<br>Should output:<br>{'a': 5,<br>\n",
    " 'abstract': 1,<br>\n",
    " 'an': 3,<br>\n",
    " 'array': 2, ... etc...</p>"
   ]
  },
  {
   "cell_type": "code",
   "execution_count": 44,
   "metadata": {},
   "outputs": [
    {
     "name": "stdout",
     "output_type": "stream",
     "text": [
      "{'in': 1, 'values': 1, 'of': 1, 'type': 1, 'value': 1, 'is': 1, 'or': 1, 'into': 1, 'uses': 1, 'the': 1, 'map': 2, 'computing': 1, 'slots': 1, 'array': 2, 'function': 1, 'which': 2, 'that': 1, 'structure': 2, 'to': 2, 'hash': 4, 'desired': 1, 'can': 2, 'data': 2, 'keys': 1, 'a': 5, 'an': 3, 'implements': 1, 'index': 1, 'buckets': 1, 'abstract': 1, 'associative': 1, 'table': 2, 'found': 1, 'compute': 1, 'be': 1, 'from': 1}\n"
     ]
    }
   ],
   "source": [
    "a_text = 'In computing, a hash table hash map is a data structure which implements an associative array abstract data type, a structure that can map keys to values. A hash table uses a hash function to compute an index into an array of buckets or slots from which the desired value can be found'\n",
    "\n",
    "def counter(astr):\n",
    "    # this block splits astr into a list of strings and cleans it up (set to lower-case and remove punctuations)\n",
    "    text = astr.split()\n",
    "    for i in range(len(text)):\n",
    "        n = text[i]\n",
    "        if not n[-1].isalpha():\n",
    "            text[i] = n[:-1]\n",
    "        text[i] = text[i].lower()\n",
    "\n",
    "    # this block creates a set from text and then converts it to a dict with 0 value for each word\n",
    "    # then it will iterate through the new dict and for each word it will iterate through the text list and count how many times it shows up\n",
    "    word_count = dict.fromkeys(set(text), 0)\n",
    "    for word in word_count:\n",
    "        for w in text:\n",
    "            if word == w:\n",
    "                word_count[word] += 1\n",
    "    return word_count\n",
    "\n",
    "print(counter(a_text))"
   ]
  },
  {
   "cell_type": "markdown",
   "metadata": {},
   "source": [
    "## Exercise #3\n",
    "\n",
    "Write a program to implement a Linear Search Algorithm. Also in a comment, write the Time Complexity of the following algorithm.\n",
    "\n",
    "#### Hint: Linear Searching will require searching a list for a given number. "
   ]
  },
  {
   "cell_type": "code",
   "execution_count": 47,
   "metadata": {},
   "outputs": [
    {
     "name": "stdout",
     "output_type": "stream",
     "text": [
      "Found 13 at index 8.\n",
      "Found 69 at index 5.\n",
      "4 not found.\n"
     ]
    }
   ],
   "source": [
    "nums = [1, 2, 3, 42, 140, 69, 88, 18, 13, 256]\n",
    "\n",
    "def finder(alist, target):\n",
    "    for i in range(len(alist)):\n",
    "        if alist[i] == target:\n",
    "            return f'Found {target} at index {i}.'\n",
    "    return f'{target} not found.'\n",
    "\n",
    "print(finder(nums, 13))\n",
    "print(finder(nums, 69))\n",
    "print(finder(nums, 4))\n",
    "\n",
    "# not fully confident on time complexity yet, but...\n",
    "# time complexity for this should be O(n) since it only scales linearly with length of alist"
   ]
  }
 ],
 "metadata": {
  "kernelspec": {
   "display_name": "Python 3.9.12 ('base')",
   "language": "python",
   "name": "python3"
  },
  "language_info": {
   "codemirror_mode": {
    "name": "ipython",
    "version": 3
   },
   "file_extension": ".py",
   "mimetype": "text/x-python",
   "name": "python",
   "nbconvert_exporter": "python",
   "pygments_lexer": "ipython3",
   "version": "3.9.12"
  },
  "vscode": {
   "interpreter": {
    "hash": "ad2bdc8ecc057115af97d19610ffacc2b4e99fae6737bb82f5d7fb13d2f2c186"
   }
  }
 },
 "nbformat": 4,
 "nbformat_minor": 2
}
